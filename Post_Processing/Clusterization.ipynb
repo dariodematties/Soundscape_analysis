{
 "cells": [
  {
   "cell_type": "markdown",
   "id": "b755fdbe",
   "metadata": {},
   "source": [
    "# Generate clusters from features"
   ]
  },
  {
   "cell_type": "code",
   "execution_count": 1,
   "id": "f8d9e854",
   "metadata": {},
   "outputs": [],
   "source": [
    "from joblib import dump, load\n",
    "from collections import namedtuple\n",
    "\n",
    "import cluster_features"
   ]
  },
  {
   "cell_type": "markdown",
   "id": "fd3dc5fb",
   "metadata": {},
   "source": [
    "Compose the arguments"
   ]
  },
  {
   "cell_type": "code",
   "execution_count": 2,
   "id": "b370662b",
   "metadata": {},
   "outputs": [],
   "source": [
    "Arguments = namedtuple('Arguments', ['features_path',\n",
    "                                     'dimensions',\n",
    "                                     'dim_red_method',\n",
    "                                     'clustering_method',\n",
    "                                     'dbscan_eps',\n",
    "                                     'dbscan_min_samples',\n",
    "                                     'kmeans_n_clusters',\n",
    "                                     'som_m',\n",
    "                                     'som_n',\n",
    "                                     'output_dir',\n",
    "                                     'subsample_feats'\n",
    "                                    ])\n",
    "\n",
    "args = Arguments(features_path = '/home/dario/mounts/thetagpu/Features',\n",
    "                 dimensions = 2,\n",
    "                 dim_red_method = 'PCA',\n",
    "                 clustering_method = 'KMEANS',\n",
    "                 dbscan_eps = 0.5,\n",
    "                 dbscan_min_samples = 30,\n",
    "                 kmeans_n_clusters = 100,\n",
    "                 som_m = 3,\n",
    "                 som_n = 3,\n",
    "                 output_dir = '/media/dario/T7_Touch/Temp_folder/Clusters',\n",
    "                 subsample_feats = 0.1\n",
    "                )"
   ]
  },
  {
   "cell_type": "markdown",
   "id": "2077ead3",
   "metadata": {},
   "source": [
    "Generate Clusters"
   ]
  },
  {
   "cell_type": "code",
   "execution_count": null,
   "id": "cd5986d8",
   "metadata": {},
   "outputs": [
    {
     "name": "stdout",
     "output_type": "stream",
     "text": [
      "BRINGING FEATURES AND SCALE THEM ...\n",
      "We have 2136286 feature vectors.\n",
      "Sub-sampling to 10.0 %.\n",
      "We ended up with 213628 feature vectors.\n",
      "DONE!\n",
      "REDUCING DIMENSIONALITY ...\n"
     ]
    }
   ],
   "source": [
    "cluster_features.main(args)"
   ]
  },
  {
   "cell_type": "code",
   "execution_count": null,
   "id": "83685274",
   "metadata": {},
   "outputs": [],
   "source": []
  }
 ],
 "metadata": {
  "kernelspec": {
   "display_name": "Python 3",
   "language": "python",
   "name": "python3"
  },
  "language_info": {
   "codemirror_mode": {
    "name": "ipython",
    "version": 3
   },
   "file_extension": ".py",
   "mimetype": "text/x-python",
   "name": "python",
   "nbconvert_exporter": "python",
   "pygments_lexer": "ipython3",
   "version": "3.8.10"
  }
 },
 "nbformat": 4,
 "nbformat_minor": 5
}
