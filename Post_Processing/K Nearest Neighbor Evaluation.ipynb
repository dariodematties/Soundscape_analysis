{
 "cells": [
  {
   "cell_type": "markdown",
   "id": "6ea02e5a",
   "metadata": {},
   "source": [
    "# K Nearest Neighbor Evaluation"
   ]
  },
  {
   "cell_type": "code",
   "execution_count": 1,
   "id": "deab0fec",
   "metadata": {},
   "outputs": [],
   "source": [
    "import os\n",
    "import numpy as np\n",
    "import torch\n",
    "\n",
    "from sklearn.neighbors import KNeighborsClassifier\n",
    "\n",
    "from bring_features_and_file_paths import get_BirdNET_detections\n",
    "from bring_features_and_file_paths import get_spectrogram_time_mark_in_file\n",
    "from bring_features_and_file_paths import bring_features_and_file_paths\n",
    "from bring_features_and_file_paths import from_spectrogram_path_to_BirdNET_output_path\n",
    "\n",
    "import matplotlib.pyplot as plt\n",
    "\n",
    "from datetime import datetime\n",
    "\n",
    "from tqdm import tqdm\n",
    "\n",
    "import seaborn as sns"
   ]
  },
  {
   "cell_type": "code",
   "execution_count": 2,
   "id": "142cfa26",
   "metadata": {},
   "outputs": [],
   "source": [
    "device_to_location = {\n",
    "    4862: \"Grassland 1\",\n",
    "    4879: \"Grassland 2\",\n",
    "    23734: \"Forest 1\",\n",
    "    23764: \"Forest 2\",\n",
    "    23795: \"Forest 3\",\n",
    "    23771: \"Forest 4\",\n",
    "    23757: (datetime(month=7, day=14, year=2021, hour=14, second=55), [\"Forest 3\", \"Forest 5\"]),\n",
    "    23700: \"Forest 6\",\n",
    "}"
   ]
  },
  {
   "cell_type": "code",
   "execution_count": 3,
   "id": "71bba5b5",
   "metadata": {
    "scrolled": false
   },
   "outputs": [
    {
     "name": "stdout",
     "output_type": "stream",
     "text": [
      "We have 101076 feature vectors.\n"
     ]
    }
   ],
   "source": [
    "feats, fpaths = bring_features_and_file_paths('/grand/projects/BirdAudio/Soundscapes/Features/', sub_sample=None)\n",
    "# feats, fpaths = bring_features_and_file_paths('/grand/projects/BirdAudio/Soundscapes/Second_Features/', sub_sample=None)\n",
    "indices = torch.randperm(feats.size()[0])\n",
    "feats=feats[indices]\n",
    "fpaths=fpaths[indices]"
   ]
  },
  {
   "cell_type": "code",
   "execution_count": 4,
   "id": "96e72fc8",
   "metadata": {
    "scrolled": true
   },
   "outputs": [
    {
     "name": "stderr",
     "output_type": "stream",
     "text": [
      "  5%|▍         | 4878/101076 [00:27<06:09, 260.52it/s]"
     ]
    },
    {
     "name": "stdout",
     "output_type": "stream",
     "text": [
      "Something was wrong with\n",
      "\u0000\u0000\u0000\u0000\u0000\u0000\u0000\u0000\u0000\u0000\u0000\u0000\u0000\u0000\u0000\u0000\u0000\u0000\u0000\u0000\u0000\u0000\u0000\u0000\u0000\u0000\u0000\u0000\u0000\u0000\u0000\u0000\u0000\u0000\u0000\u0000\u0000\u0000\u0000\u0000\u0000\u0000\u0000\u0000\u0000\u0000\u0000\u0000\u0000\u0000\u0000\u0000\u0000\u0000\u0000\u0000\u0000\u0000\u0000\u0000\u0000\u0000\u0000\u0000\u0000\u0000\u0000\u0000\u0000\u0000\u0000\u0000\u0000\u0000\u0000\u0000\u0000\u0000\u0000\u0000\u0000\n"
     ]
    },
    {
     "name": "stderr",
     "output_type": "stream",
     "text": [
      "  7%|▋         | 6900/101076 [00:35<05:46, 271.53it/s]"
     ]
    },
    {
     "name": "stdout",
     "output_type": "stream",
     "text": [
      "Something was wrong with\n",
      "\u0000\u0000\u0000\u0000\u0000\u0000\u0000\u0000\u0000\u0000\u0000\u0000\u0000\u0000\u0000\u0000\u0000\u0000\u0000\u0000\u0000\u0000\u0000\u0000\u0000\u0000\u0000\u0000\u0000\u0000\u0000\u0000\u0000\u0000\u0000\u0000\u0000\u0000\u0000\u0000\u0000\u0000\u0000\u0000\u0000\u0000\u0000\u0000\u0000\u0000\u0000\u0000\u0000\u0000\u0000\u0000\u0000\u0000\u0000\u0000\u0000\u0000\u0000\u0000\u0000\u0000\u0000\u0000\u0000\u0000\u0000\u0000\u0000\u0000\u0000\u0000\u0000\u0000\u0000\u0000\u0000\n"
     ]
    },
    {
     "name": "stderr",
     "output_type": "stream",
     "text": [
      " 15%|█▌        | 15319/101076 [01:42<05:00, 285.63it/s]  "
     ]
    },
    {
     "name": "stdout",
     "output_type": "stream",
     "text": [
      "Something was wrong with\n",
      "\u0000\u0000\u0000\u0000\u0000\u0000\u0000\u0000\u0000\u0000\u0000\u0000\u0000\u0000\u0000\u0000\u0000\u0000\u0000\u0000\u0000\u0000\u0000\u0000\u0000\u0000\u0000\u0000\u0000\u0000\u0000\u0000\u0000\u0000\u0000\u0000\u0000\u0000\u0000\u0000\u0000\u0000\u0000\u0000\u0000\u0000\u0000\u0000\u0000\u0000\u0000\u0000\u0000\u0000\u0000\u0000\u0000\u0000\u0000\u0000\u0000\u0000\u0000\u0000\u0000\u0000\u0000\u0000\u0000\u0000\u0000\u0000\u0000\u0000\u0000\u0000\u0000\u0000\u0000\u0000\u0000\n"
     ]
    },
    {
     "name": "stderr",
     "output_type": "stream",
     "text": [
      " 25%|██▌       | 25269/101076 [02:19<04:14, 297.80it/s]"
     ]
    },
    {
     "name": "stdout",
     "output_type": "stream",
     "text": [
      "Something was wrong with\n",
      "\u0000\u0000\u0000\u0000\u0000\u0000\u0000\u0000\u0000\u0000\u0000\u0000\u0000\u0000\u0000\u0000\u0000\u0000\u0000\u0000\u0000\u0000\u0000\u0000\u0000\u0000\u0000\u0000\u0000\u0000\u0000\u0000\u0000\u0000\u0000\u0000\u0000\u0000\u0000\u0000\u0000\u0000\u0000\u0000\u0000\u0000\u0000\u0000\u0000\u0000\u0000\u0000\u0000\u0000\u0000\u0000\u0000\u0000\u0000\u0000\u0000\u0000\u0000\u0000\u0000\u0000\u0000\u0000\u0000\u0000\u0000\u0000\u0000\u0000\u0000\u0000\u0000\u0000\u0000\u0000\u0000\n"
     ]
    },
    {
     "name": "stderr",
     "output_type": "stream",
     "text": [
      " 50%|████▉     | 50386/101076 [03:55<02:49, 298.90it/s]"
     ]
    },
    {
     "name": "stdout",
     "output_type": "stream",
     "text": [
      "Something was wrong with\n",
      "\u0000\u0000\u0000\u0000\u0000\u0000\u0000\u0000\u0000\u0000\u0000\u0000\u0000\u0000\u0000\u0000\u0000\u0000\u0000\u0000\u0000\u0000\u0000\u0000\u0000\u0000\u0000\u0000\u0000\u0000\u0000\u0000\u0000\u0000\u0000\u0000\u0000\u0000\u0000\u0000\u0000\u0000\u0000\u0000\u0000\u0000\u0000\u0000\u0000\u0000\u0000\u0000\u0000\u0000\u0000\u0000\u0000\u0000\u0000\u0000\u0000\u0000\u0000\u0000\u0000\u0000\u0000\u0000\u0000\u0000\u0000\u0000\u0000\u0000\u0000\u0000\u0000\u0000\u0000\u0000\u0000\n"
     ]
    },
    {
     "name": "stderr",
     "output_type": "stream",
     "text": [
      " 84%|████████▍ | 84802/101076 [06:20<01:01, 264.23it/s]"
     ]
    },
    {
     "name": "stdout",
     "output_type": "stream",
     "text": [
      "Something was wrong with\n",
      "\u0000\u0000\u0000\u0000\u0000\u0000\u0000\u0000\u0000\u0000\u0000\u0000\u0000\u0000\u0000\u0000\u0000\u0000\u0000\u0000\u0000\u0000\u0000\u0000\u0000\u0000\u0000\u0000\u0000\u0000\u0000\u0000\u0000\u0000\u0000\u0000\u0000\u0000\u0000\u0000\u0000\u0000\u0000\u0000\u0000\u0000\u0000\u0000\u0000\u0000\u0000\u0000\u0000\u0000\u0000\u0000\u0000\u0000\u0000\u0000\u0000\u0000\u0000\u0000\u0000\u0000\u0000\u0000\u0000\u0000\u0000\u0000\u0000\u0000\u0000\u0000\u0000\u0000\u0000\u0000\u0000\n"
     ]
    },
    {
     "name": "stderr",
     "output_type": "stream",
     "text": [
      " 85%|████████▍ | 85426/101076 [06:23<01:02, 252.16it/s]"
     ]
    },
    {
     "name": "stdout",
     "output_type": "stream",
     "text": [
      "Something was wrong with\n",
      "\u0000\u0000\u0000\u0000\u0000\u0000\u0000\u0000\u0000\u0000\u0000\u0000\u0000\u0000\u0000\u0000\u0000\u0000\u0000\u0000\u0000\u0000\u0000\u0000\u0000\u0000\u0000\u0000\u0000\u0000\u0000\u0000\u0000\u0000\u0000\u0000\u0000\u0000\u0000\u0000\u0000\u0000\u0000\u0000\u0000\u0000\u0000\u0000\u0000\u0000\u0000\u0000\u0000\u0000\u0000\u0000\u0000\u0000\u0000\u0000\u0000\u0000\u0000\u0000\u0000\u0000\u0000\u0000\u0000\u0000\u0000\u0000\u0000\u0000\u0000\u0000\u0000\u0000\u0000\u0000\u0000\n"
     ]
    },
    {
     "name": "stderr",
     "output_type": "stream",
     "text": [
      " 99%|█████████▉| 100288/101076 [07:20<00:02, 277.14it/s]"
     ]
    },
    {
     "name": "stdout",
     "output_type": "stream",
     "text": [
      "Something was wrong with\n",
      "\u0000\u0000\u0000\u0000\u0000\u0000\u0000\u0000\u0000\u0000\u0000\u0000\u0000\u0000\u0000\u0000\u0000\u0000\u0000\u0000\u0000\u0000\u0000\u0000\u0000\u0000\u0000\u0000\u0000\u0000\u0000\u0000\u0000\u0000\u0000\u0000\u0000\u0000\u0000\u0000\u0000\u0000\u0000\u0000\u0000\u0000\u0000\u0000\u0000\u0000\u0000\u0000\u0000\u0000\u0000\u0000\u0000\u0000\u0000\u0000\u0000\u0000\u0000\u0000\u0000\u0000\u0000\u0000\u0000\u0000\u0000\u0000\u0000\u0000\u0000\u0000\u0000\u0000\u0000\u0000\u0000\n"
     ]
    },
    {
     "name": "stderr",
     "output_type": "stream",
     "text": [
      "100%|██████████| 101076/101076 [07:23<00:00, 227.69it/s]\n"
     ]
    }
   ],
   "source": [
    "aspect='detection'\n",
    "\n",
    "vectors=[]\n",
    "labels=[]\n",
    "BirdNET_BASE_PATH = '/grand/projects/BirdAudio/Soundscapes/BirdNET_Output'\n",
    "Spectrograms_BASE_PATH = '/grand/projects/BirdAudio/Soundscapes/Second_Filtered_Spectrograms/'\n",
    "# Spectrograms_BASE_PATH = '/grand/projects/BirdAudio/Soundscapes/First_Filtered_Spectrograms'\n",
    "spectrogram_duration = 9.0\n",
    "for k, (fpath, feat) in enumerate(tqdm(zip(fpaths,feats), total=len(feats))):\n",
    "    file_path = ''.join([chr(int(x)) for x in fpath]).replace('~','')\n",
    "    BirdNET_PATH = from_spectrogram_path_to_BirdNET_output_path(fpath)\n",
    "\n",
    "    try:\n",
    "        start_time = get_spectrogram_time_mark_in_file(fpath, spectrogram_duration)\n",
    "\n",
    "        interval = (start_time, start_time + spectrogram_duration)\n",
    "        data_elements = get_BirdNET_detections(os.path.join(BirdNET_BASE_PATH, BirdNET_PATH), interval, confidence_threshold = 0.0)\n",
    "\n",
    "\n",
    "        for data_element in data_elements:\n",
    "            device=int(data_element['device'])\n",
    "            if device!=23788:\n",
    "                if aspect=='location':\n",
    "                    location = device_to_location[device]\n",
    "                    if isinstance(location, tuple):\n",
    "                        date = datetime(month=data_element['month'], day=data_element['day'], year=data_element['year'], hour=data_element['hour'], second=data_element['second'])\n",
    "                        if date < location[0]:\n",
    "                            data_element['location'] = location[1][0]\n",
    "                        else:\n",
    "                            data_element['location'] = location[1][1]\n",
    "                    else:\n",
    "                        data_element['location'] = location\n",
    "\n",
    "                vectors.append(np.array(feat))\n",
    "                labels.append(data_element[aspect])\n",
    "\n",
    "    except:\n",
    "        print(\"Something was wrong with\")\n",
    "        print(file_path)\n",
    "\n",
    "\n",
    "    if k > 200000:\n",
    "        break\n",
    "\n",
    "vectors=np.array(vectors)\n",
    "labels=np.array(labels)\n",
    "unique_labels=np.unique(labels)\n",
    "aux=[]\n",
    "for label in labels:\n",
    "    aux.append(np.where(unique_labels==label)[0].item())\n",
    "    \n",
    "labels=np.array(aux)"
   ]
  },
  {
   "cell_type": "code",
   "execution_count": 9,
   "id": "36b86a89",
   "metadata": {},
   "outputs": [],
   "source": [
    "if aspect=='detection':\n",
    "    mask=np.array([unique_labels=='Blue Jay'])\n",
    "    mask=np.logical_or(mask,np.array([unique_labels=='Eastern Wood-Pewee']))\n",
    "#     mask=np.logical_or(mask,np.array([unique_labels=='Great Crested Flycatcher']))\n",
    "#     mask=np.logical_or(mask,np.array([unique_labels=='Hairy Woodpecker']))\n",
    "    mask=np.logical_or(mask,np.array([unique_labels=='Indigo Bunting']))\n",
    "#     mask=np.logical_or(mask,np.array([unique_labels=='Ovenbird']))\n",
    "#     mask=np.logical_or(mask,np.array([unique_labels=='Red-eyed Vireo']))\n",
    "#     mask=np.logical_or(mask,np.array([unique_labels=='Scarlet Tanager']))\n",
    "#     mask=np.logical_or(mask,np.array([unique_labels=='Tree Swallow']))\n",
    "    mask=np.logical_or(mask,np.array([unique_labels=='No detection']))\n",
    "\n",
    "    chosen_labels=np.where(mask[0])[0]\n",
    "    chosen_labels\n",
    "\n",
    "    def find_indices(A, B):\n",
    "        indices = np.where(np.isin(A, B))\n",
    "        return indices\n",
    "\n",
    "    indices=find_indices(labels, chosen_labels)[0]\n",
    "\n",
    "    vectors = vectors[indices]\n",
    "    labels = labels[indices]\n"
   ]
  },
  {
   "cell_type": "code",
   "execution_count": 10,
   "id": "b9766b97",
   "metadata": {},
   "outputs": [
    {
     "data": {
      "text/plain": [
       "(88693, 384)"
      ]
     },
     "execution_count": 10,
     "metadata": {},
     "output_type": "execute_result"
    }
   ],
   "source": [
    "vectors.shape"
   ]
  },
  {
   "cell_type": "code",
   "execution_count": 11,
   "id": "e488cf69",
   "metadata": {},
   "outputs": [
    {
     "data": {
      "text/plain": [
       "(88693,)"
      ]
     },
     "execution_count": 11,
     "metadata": {},
     "output_type": "execute_result"
    }
   ],
   "source": [
    "labels.shape"
   ]
  },
  {
   "cell_type": "code",
   "execution_count": 12,
   "id": "aa68d3eb",
   "metadata": {},
   "outputs": [
    {
     "data": {
      "text/plain": [
       "array(['American Crow', 'American Goldfinch', 'American Redstart',\n",
       "       'American Robin', 'Baltimore Oriole', 'Barn Swallow',\n",
       "       'Belted Kingfisher', 'Black-and-white Warbler',\n",
       "       'Black-bellied Whistling-Duck', 'Black-capped Chickadee',\n",
       "       'Black-crowned Night-Heron', 'Blue Jay', 'Blue-gray Gnatcatcher',\n",
       "       'Brown-headed Cowbird', 'Canada Goose', 'Caspian Tern',\n",
       "       'Cedar Waxwing', 'Chimney Swift', 'Chipping Sparrow',\n",
       "       'Common Grackle', 'Common Nighthawk', 'Common Yellowthroat',\n",
       "       \"Cooper's Hawk\", 'Downy Woodpecker', 'Eastern Bluebird',\n",
       "       'Eastern Kingbird', 'Eastern Phoebe', 'Eastern Towhee',\n",
       "       'Eastern Wood-Pewee', 'European Starling', 'Field Sparrow',\n",
       "       'Gray Catbird', 'Great Blue Heron', 'Great Crested Flycatcher',\n",
       "       'Great Egret', 'Green Heron', 'Hairy Woodpecker', 'House Finch',\n",
       "       'House Sparrow', 'House Wren', 'Indigo Bunting', 'Killdeer',\n",
       "       'Mallard', 'Marsh Wren', 'Mourning Dove', 'No detection',\n",
       "       'Northern Cardinal', 'Northern Flicker',\n",
       "       'Northern Rough-winged Swallow', 'Ovenbird',\n",
       "       'Red-bellied Woodpecker', 'Red-eyed Vireo',\n",
       "       'Red-headed Woodpecker', 'Red-tailed Hawk', 'Red-winged Blackbird',\n",
       "       'Ring-billed Gull', 'Rose-breasted Grosbeak',\n",
       "       'Ruby-throated Hummingbird', 'Savannah Sparrow', 'Scarlet Tanager',\n",
       "       'Solitary Sandpiper', 'Song Sparrow', 'Spotted Sandpiper',\n",
       "       \"Swainson's Thrush\", 'Tennessee Warbler', 'Tree Swallow',\n",
       "       'Warbling Vireo', 'White-breasted Nuthatch', 'Willow Flycatcher',\n",
       "       'Wood Duck', 'Wood Thrush', 'Yellow Warbler',\n",
       "       'Yellow-billed Cuckoo'], dtype='<U29')"
      ]
     },
     "execution_count": 12,
     "metadata": {},
     "output_type": "execute_result"
    }
   ],
   "source": [
    "unique_labels"
   ]
  },
  {
   "cell_type": "code",
   "execution_count": 13,
   "id": "8936c8bd",
   "metadata": {},
   "outputs": [
    {
     "name": "stderr",
     "output_type": "stream",
     "text": [
      "  0%|          | 0/4 [00:00<?, ?it/s]/tmp/ipykernel_44764/4281146875.py:14: RuntimeWarning: invalid value encountered in long_scalars\n",
      "  per_label_performance.append(np.sum(label_predictions[indices]==label)/indices[0].shape[0])\n",
      " 25%|██▌       | 1/4 [00:20<01:01, 20.64s/it]/tmp/ipykernel_44764/4281146875.py:14: RuntimeWarning: invalid value encountered in long_scalars\n",
      "  per_label_performance.append(np.sum(label_predictions[indices]==label)/indices[0].shape[0])\n",
      " 50%|█████     | 2/4 [00:40<00:40, 20.28s/it]/tmp/ipykernel_44764/4281146875.py:14: RuntimeWarning: invalid value encountered in long_scalars\n",
      "  per_label_performance.append(np.sum(label_predictions[indices]==label)/indices[0].shape[0])\n",
      " 75%|███████▌  | 3/4 [01:00<00:20, 20.08s/it]/tmp/ipykernel_44764/4281146875.py:14: RuntimeWarning: invalid value encountered in long_scalars\n",
      "  per_label_performance.append(np.sum(label_predictions[indices]==label)/indices[0].shape[0])\n",
      "100%|██████████| 4/4 [01:20<00:00, 20.07s/it]\n"
     ]
    }
   ],
   "source": [
    "performances=[]\n",
    "performances_per_label=[]\n",
    "# jumps=list(np.arange(1,21,4))\n",
    "jumps=[5,10,15,20]\n",
    "for n in tqdm(jumps):\n",
    "    neigh = KNeighborsClassifier(n_neighbors=n)\n",
    "    neigh.fit(vectors, labels)\n",
    "    label_predictions=neigh.predict(vectors)\n",
    "    performances.append(np.sum(label_predictions==labels)/labels.shape[0])\n",
    "    \n",
    "    per_label_performance=[]\n",
    "    for label in range(len(unique_labels)):\n",
    "        indices=np.where(labels==label)\n",
    "        per_label_performance.append(np.sum(label_predictions[indices]==label)/indices[0].shape[0])\n",
    "        \n",
    "    per_label_performance=np.array(per_label_performance)\n",
    "    performances_per_label.append(per_label_performance)\n",
    "\n",
    "performances=np.array(performances)\n",
    "performances_per_label=np.array(performances_per_label)"
   ]
  },
  {
   "cell_type": "code",
   "execution_count": 17,
   "id": "09dc2309",
   "metadata": {},
   "outputs": [
    {
     "data": {
      "text/plain": [
       "Text(0, 0.5, 'Performance')"
      ]
     },
     "execution_count": 17,
     "metadata": {},
     "output_type": "execute_result"
    },
    {
     "data": {
      "image/png": "[encoded data removed]",
      "text/plain": [
       "<Figure size 400x400 with 1 Axes>"
      ]
     },
     "metadata": {},
     "output_type": "display_data"
    }
   ],
   "source": [
    "#aux=np.array([int(j+1) for j in range(jumps)])\n",
    "aux=jumps\n",
    "plt.figure(figsize=(4,4))\n",
    "plt.plot(aux, performances, marker='o')\n",
    "plt.xticks(aux)\n",
    "plt.xlabel('Number of neighbors')\n",
    "plt.ylabel('Performance')"
   ]
  },
  {
   "cell_type": "code",
   "execution_count": 16,
   "id": "5f215131",
   "metadata": {},
   "outputs": [
    {
     "data": {
      "text/plain": [
       "Text(28.75, 0.5, 'Number of neighbors')"
      ]
     },
     "execution_count": 16,
     "metadata": {},
     "output_type": "execute_result"
    },
    {
     "data": {
      "image/png": "[encoded data removed]",
      "text/plain": [
       "<Figure size 500x400 with 2 Axes>"
      ]
     },
     "metadata": {},
     "output_type": "display_data"
    }
   ],
   "source": [
    "# sns.set(font_scale=20)\n",
    "sns.set (rc = {'figure.figsize':(5,4)}) # detection\n",
    "# sns.set (rc = {'figure.figsize':(8,4)}) # detection\n",
    "# sns.set (rc = {'figure.figsize':(22,4)}) # hour\n",
    "#sns.set (rc = {'figure.figsize':(10,4)}) # location\n",
    "# sns.set (rc = {'figure.figsize':(15,4)}) # week\n",
    "# sns.set (rc = {'figure.figsize':(5,4)}) # month\n",
    "#sns.set (rc = {'figure.figsize':(55, 10)})\n",
    "sns.heatmap(performances_per_label[:,chosen_labels], xticklabels=unique_labels[chosen_labels], yticklabels=aux, annot=True, fmt=\".2f\", vmin=0.0, vmax=1.0)\n",
    "#sns.heatmap(performances_per_label, xticklabels=unique_labels, yticklabels=aux, annot=True, fmt=\".2f\", vmin=0.0, vmax=1.0)\n",
    "#plt.xlabel('Devices')\n",
    "plt.xlabel('Birds')\n",
    "plt.ylabel('Number of neighbors')"
   ]
  },
  {
   "cell_type": "code",
   "execution_count": null,
   "id": "d0d201bf",
   "metadata": {},
   "outputs": [],
   "source": [
    "# sns.set(font_scale=20)\n",
    "sns.set (rc = {'figure.figsize':(6,4)}) # detection\n",
    "# sns.set (rc = {'figure.figsize':(22,4)}) # hour\n",
    "#sns.set (rc = {'figure.figsize':(8,4)}) # location\n",
    "# sns.set (rc = {'figure.figsize':(15,4)}) # week\n",
    "# sns.set (rc = {'figure.figsize':(5,4)}) # month\n",
    "#sns.set (rc = {'figure.figsize':(55, 10)})\n",
    "sns.heatmap(performances_per_label[:,chosen_labels], xticklabels=unique_labels[chosen_labels], yticklabels=False, annot=True, fmt=\".2f\", vmin=0.0, vmax=1.0, cbar=False)\n",
    "#sns.heatmap(performances_per_label[:,chosen_labels], xticklabels=False, yticklabels=False, annot=True, fmt=\".2f\", vmin=0.0, vmax=1.0, cbar=False)\n",
    "#sns.heatmap(performances_per_label, xticklabels=unique_labels, yticklabels=False, annot=True, fmt=\".2f\", vmin=0.0, vmax=1.0, cbar=False)\n",
    "# sns.heatmap(performances_per_label, xticklabels=unique_labels, yticklabels=aux, annot=True, fmt=\".2f\", vmin=0.0, vmax=1.0, cbar=False)\n",
    "#plt.xlabel('Devices')\n",
    "# plt.xlabel('Month')\n",
    "# plt.ylabel('Number of neighbors')\n",
    "\n",
    "#plt.savefig(f\"heatmap_{aspect}.png\", dpi=300)\n",
    "plt.savefig(f\"heatmap_{aspect}.png\", dpi=300, bbox_inches='tight')"
   ]
  },
  {
   "cell_type": "code",
   "execution_count": null,
   "id": "9094f2db",
   "metadata": {},
   "outputs": [],
   "source": [
    "int(data_element['device'])"
   ]
  },
  {
   "cell_type": "code",
   "execution_count": null,
   "id": "f9910acf",
   "metadata": {},
   "outputs": [],
   "source": [
    "performances"
   ]
  },
  {
   "cell_type": "code",
   "execution_count": null,
   "id": "7dbe45a3",
   "metadata": {},
   "outputs": [],
   "source": []
  }
 ],
 "metadata": {
  "kernelspec": {
   "display_name": "soundscape_env",
   "language": "python",
   "name": "soundscape_env"
  },
  "language_info": {
   "codemirror_mode": {
    "name": "ipython",
    "version": 3
   },
   "file_extension": ".py",
   "mimetype": "text/x-python",
   "name": "python",
   "nbconvert_exporter": "python",
   "pygments_lexer": "ipython3",
   "version": "3.10.9"
  }
 },
 "nbformat": 4,
 "nbformat_minor": 5
}
