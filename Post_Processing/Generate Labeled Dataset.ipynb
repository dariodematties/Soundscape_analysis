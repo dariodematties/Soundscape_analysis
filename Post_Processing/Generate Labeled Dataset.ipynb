{
 "cells": [
  {
   "cell_type": "markdown",
   "id": "51925a2b",
   "metadata": {},
   "source": [
    "# Generates Labeled Dataset from Clusterization"
   ]
  },
  {
   "cell_type": "code",
   "execution_count": null,
   "id": "d8d0f365",
   "metadata": {},
   "outputs": [],
   "source": [
    "import numpy as np\n",
    "\n",
    "from joblib import dump, load\n",
    "\n",
    "from sklearn.neighbors import KNeighborsClassifier\n",
    "\n",
    "from bring_features_and_file_paths import bring_features_and_file_paths, transform_features"
   ]
  },
  {
   "cell_type": "markdown",
   "id": "d465afd5",
   "metadata": {},
   "source": [
    "## Bring all the features and file paths"
   ]
  },
  {
   "cell_type": "code",
   "execution_count": null,
   "id": "7d7c34c3",
   "metadata": {},
   "outputs": [],
   "source": [
    "features, file_paths, indices = bring_features_and_file_paths('/home/dario/mounts/thetagpu/Features', sub_sample=0.2)"
   ]
  },
  {
   "cell_type": "markdown",
   "id": "89c1f236",
   "metadata": {},
   "source": [
    "Now, we want to transform the features, scaling them and reducing their dimensionality"
   ]
  },
  {
   "cell_type": "code",
   "execution_count": null,
   "id": "3b35c6be",
   "metadata": {},
   "outputs": [],
   "source": [
    "dim_red_model = load('/media/dario/T7_Touch/Temp_folder/Clusters/dim_red_model')\n",
    "scale_model = load('/media/dario/T7_Touch/Temp_folder/Clusters/scale_model')"
   ]
  },
  {
   "cell_type": "code",
   "execution_count": null,
   "id": "0f575f7e",
   "metadata": {},
   "outputs": [],
   "source": [
    "samples = transform_features(features, scale_model, dim_red_model)\n",
    "samples.shape"
   ]
  },
  {
   "cell_type": "markdown",
   "id": "3f807e30",
   "metadata": {},
   "source": [
    "Load the clusters generated from the features\n",
    "\n",
    "We will use them to classify our sample of features now"
   ]
  },
  {
   "cell_type": "code",
   "execution_count": null,
   "id": "fa16618e",
   "metadata": {},
   "outputs": [],
   "source": [
    "clusters = np.load('/media/dario/T7_Touch/Temp_folder/Clusters/clusters.npy', allow_pickle=True)\n",
    "vectors=clusters[()]['x']\n",
    "labels=clusters[()]['y']"
   ]
  },
  {
   "cell_type": "code",
   "execution_count": null,
   "id": "2fd490d8",
   "metadata": {},
   "outputs": [],
   "source": [
    "n_clusters_ = len(set(labels)) - (1 if -1 in labels else 0)\n",
    "n_noise_ = list(labels).count(-1)\n",
    "print(\"Estimated number of clusters: %d\" % n_clusters_)\n",
    "print(\"Estimated number of noise points: %d\" % n_noise_)"
   ]
  },
  {
   "cell_type": "markdown",
   "id": "d438f554",
   "metadata": {},
   "source": [
    "Train a k-nearest neighbor algorithm to predict the samples"
   ]
  },
  {
   "cell_type": "code",
   "execution_count": null,
   "id": "449aad6e",
   "metadata": {},
   "outputs": [],
   "source": [
    "neigh = KNeighborsClassifier(n_neighbors=10)\n",
    "neigh.fit(vectors, labels)"
   ]
  },
  {
   "cell_type": "code",
   "execution_count": null,
   "id": "d0f25de3",
   "metadata": {},
   "outputs": [],
   "source": [
    "label_predictions=neigh.predict(samples)\n",
    "core_samples = np.zeros_like(label_predictions, dtype=bool)\n",
    "core_samples[label_predictions == cluster_number] = True\n",
    "n_noise_points = list(label_predictions).count(-1)"
   ]
  },
  {
   "cell_type": "code",
   "execution_count": null,
   "id": "fb868595",
   "metadata": {},
   "outputs": [],
   "source": []
  }
 ],
 "metadata": {
  "kernelspec": {
   "display_name": "Python 3",
   "language": "python",
   "name": "python3"
  },
  "language_info": {
   "codemirror_mode": {
    "name": "ipython",
    "version": 3
   },
   "file_extension": ".py",
   "mimetype": "text/x-python",
   "name": "python",
   "nbconvert_exporter": "python",
   "pygments_lexer": "ipython3",
   "version": "3.8.10"
  }
 },
 "nbformat": 4,
 "nbformat_minor": 5
}
