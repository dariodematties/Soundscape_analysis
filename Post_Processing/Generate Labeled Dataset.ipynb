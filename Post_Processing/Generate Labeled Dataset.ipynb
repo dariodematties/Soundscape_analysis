{
 "cells": [
  {
   "cell_type": "markdown",
   "id": "51925a2b",
   "metadata": {},
   "source": [
    "# Generates Labeled Dataset from Clusterization"
   ]
  },
  {
   "cell_type": "code",
   "execution_count": 1,
   "id": "d8d0f365",
   "metadata": {},
   "outputs": [],
   "source": [
    "import os\n",
    "import numpy as np\n",
    "\n",
    "from pathlib import Path\n",
    "from joblib import dump, load\n",
    "\n",
    "from sklearn.neighbors import KNeighborsClassifier\n",
    "\n",
    "from bring_features_and_file_paths import bring_features_and_file_paths, transform_features\n",
    "from generate_labelled_dataset import generate_labelled_dataset"
   ]
  },
  {
   "cell_type": "markdown",
   "id": "d465afd5",
   "metadata": {},
   "source": [
    "## Bring all the features and file paths"
   ]
  },
  {
   "cell_type": "code",
   "execution_count": 2,
   "id": "7d7c34c3",
   "metadata": {},
   "outputs": [
    {
     "name": "stdout",
     "output_type": "stream",
     "text": [
      "We have 101076 feature vectors.\n"
     ]
    }
   ],
   "source": [
    "features, file_paths = bring_features_and_file_paths('/grand/projects/BirdAudio/Soundscapes/Features', sub_sample=None)\n",
    "#features, file_paths, indices = bring_features_and_file_paths('/grand/projects/BirdAudio/Soundscapes/Features', sub_sample=0.002)"
   ]
  },
  {
   "cell_type": "markdown",
   "id": "89c1f236",
   "metadata": {},
   "source": [
    "Now, we want to transform the features, scaling them and reducing their dimensionality"
   ]
  },
  {
   "cell_type": "code",
   "execution_count": 3,
   "id": "3b35c6be",
   "metadata": {},
   "outputs": [],
   "source": [
    "dim_red_model = load('/grand/projects/BirdAudio/Soundscapes/Clusters/ThirdClusters/MLE/dim_red_model')\n",
    "scale_model = load('/grand/projects/BirdAudio/Soundscapes/Clusters/ThirdClusters/MLE/scale_model')"
   ]
  },
  {
   "cell_type": "code",
   "execution_count": 4,
   "id": "0f575f7e",
   "metadata": {},
   "outputs": [
    {
     "data": {
      "text/plain": [
       "(101076, 383)"
      ]
     },
     "execution_count": 4,
     "metadata": {},
     "output_type": "execute_result"
    }
   ],
   "source": [
    "samples = transform_features(features, scale_model, dim_red_model)\n",
    "samples.shape"
   ]
  },
  {
   "cell_type": "markdown",
   "id": "3f807e30",
   "metadata": {},
   "source": [
    "Load the clusters generated from the features\n",
    "\n",
    "We will use them to classify our sample of features now"
   ]
  },
  {
   "cell_type": "code",
   "execution_count": 5,
   "id": "fa16618e",
   "metadata": {},
   "outputs": [],
   "source": [
    "clusters = np.load('/grand/projects/BirdAudio/Soundscapes/Clusters/ThirdClusters/MLE/clusters.npy', allow_pickle=True)\n",
    "vectors=clusters[()]['x']\n",
    "labels=clusters[()]['y']"
   ]
  },
  {
   "cell_type": "code",
   "execution_count": 6,
   "id": "2fd490d8",
   "metadata": {},
   "outputs": [
    {
     "name": "stdout",
     "output_type": "stream",
     "text": [
      "Estimated number of clusters: 100\n",
      "Estimated number of noise points: 0\n"
     ]
    }
   ],
   "source": [
    "n_clusters_ = len(set(labels)) - (1 if -1 in labels else 0)\n",
    "n_noise_ = list(labels).count(-1)\n",
    "print(\"Estimated number of clusters: %d\" % n_clusters_)\n",
    "print(\"Estimated number of noise points: %d\" % n_noise_)"
   ]
  },
  {
   "cell_type": "markdown",
   "id": "d438f554",
   "metadata": {},
   "source": [
    "If there are not predicted labels saved, train a k-nearest neighbor algorithm to predict the samples"
   ]
  },
  {
   "cell_type": "code",
   "execution_count": 7,
   "id": "d0f25de3",
   "metadata": {},
   "outputs": [
    {
     "name": "stdout",
     "output_type": "stream",
     "text": [
      "Predicting samples ...\n",
      "DONE!\n"
     ]
    }
   ],
   "source": [
    "output_dir='/grand/projects/BirdAudio/Soundscapes/Labeled_Dataset'\n",
    "if not os.path.isfile(os.path.join(output_dir,'label_predictions.npy')):\n",
    "    Path(output_dir).mkdir(parents=True, exist_ok=True)\n",
    "    print('Predicting samples ...')\n",
    "    neigh = KNeighborsClassifier(n_neighbors=10)\n",
    "    neigh.fit(vectors, labels)\n",
    "    label_predictions=neigh.predict(samples)\n",
    "    np.save(os.path.join(output_dir,'label_predictions.npy'), label_predictions)\n",
    "    print('DONE!')\n",
    "else:\n",
    "    print('Bringing saved predictions ...')\n",
    "    label_predictions=np.load(os.path.join(output_dir,'label_predictions.npy'))\n",
    "    print('DONE!')"
   ]
  },
  {
   "cell_type": "code",
   "execution_count": 8,
   "id": "fb868595",
   "metadata": {},
   "outputs": [
    {
     "data": {
      "text/plain": [
       "(101076,)"
      ]
     },
     "execution_count": 8,
     "metadata": {},
     "output_type": "execute_result"
    }
   ],
   "source": [
    "label_predictions.shape"
   ]
  },
  {
   "cell_type": "code",
   "execution_count": 9,
   "id": "50a39691",
   "metadata": {},
   "outputs": [
    {
     "name": "stdout",
     "output_type": "stream",
     "text": [
      "No checkpoint. Starting from 0.\n",
      "Checkpointing at every 1000 samples\n",
      "Something went wrong with the following data path\n",
      "Label is  43\n",
      "File path is  \u0000\u0000\u0000\u0000\u0000\u0000\u0000\u0000\u0000\u0000\u0000\u0000\u0000\u0000\u0000\u0000\u0000\u0000\u0000\u0000\u0000\u0000\u0000\u0000\u0000\u0000\u0000\u0000\u0000\u0000\u0000\u0000\u0000\u0000\u0000\u0000\u0000\u0000\u0000\u0000\u0000\u0000\u0000\u0000\u0000\u0000\u0000\u0000\u0000\u0000\u0000\u0000\u0000\u0000\u0000\u0000\u0000\u0000\u0000\u0000\u0000\u0000\u0000\u0000\u0000\u0000\u0000\u0000\u0000\u0000\u0000\u0000\u0000\u0000\u0000\u0000\u0000\u0000\u0000\u0000\u0000\n",
      "To output directory in  /grand/projects/BirdAudio/Soundscapes/Labeled_Dataset/Class_43/\n",
      "Something went wrong with the following data path\n",
      "Label is  43\n",
      "File path is  \u0000\u0000\u0000\u0000\u0000\u0000\u0000\u0000\u0000\u0000\u0000\u0000\u0000\u0000\u0000\u0000\u0000\u0000\u0000\u0000\u0000\u0000\u0000\u0000\u0000\u0000\u0000\u0000\u0000\u0000\u0000\u0000\u0000\u0000\u0000\u0000\u0000\u0000\u0000\u0000\u0000\u0000\u0000\u0000\u0000\u0000\u0000\u0000\u0000\u0000\u0000\u0000\u0000\u0000\u0000\u0000\u0000\u0000\u0000\u0000\u0000\u0000\u0000\u0000\u0000\u0000\u0000\u0000\u0000\u0000\u0000\u0000\u0000\u0000\u0000\u0000\u0000\u0000\u0000\u0000\u0000\n",
      "To output directory in  /grand/projects/BirdAudio/Soundscapes/Labeled_Dataset/Class_43/\n",
      "Something went wrong with the following data path\n",
      "Label is  43\n",
      "File path is  \u0000\u0000\u0000\u0000\u0000\u0000\u0000\u0000\u0000\u0000\u0000\u0000\u0000\u0000\u0000\u0000\u0000\u0000\u0000\u0000\u0000\u0000\u0000\u0000\u0000\u0000\u0000\u0000\u0000\u0000\u0000\u0000\u0000\u0000\u0000\u0000\u0000\u0000\u0000\u0000\u0000\u0000\u0000\u0000\u0000\u0000\u0000\u0000\u0000\u0000\u0000\u0000\u0000\u0000\u0000\u0000\u0000\u0000\u0000\u0000\u0000\u0000\u0000\u0000\u0000\u0000\u0000\u0000\u0000\u0000\u0000\u0000\u0000\u0000\u0000\u0000\u0000\u0000\u0000\u0000\u0000\n",
      "To output directory in  /grand/projects/BirdAudio/Soundscapes/Labeled_Dataset/Class_43/\n",
      "Something went wrong with the following data path\n",
      "Label is  43\n",
      "File path is  \u0000\u0000\u0000\u0000\u0000\u0000\u0000\u0000\u0000\u0000\u0000\u0000\u0000\u0000\u0000\u0000\u0000\u0000\u0000\u0000\u0000\u0000\u0000\u0000\u0000\u0000\u0000\u0000\u0000\u0000\u0000\u0000\u0000\u0000\u0000\u0000\u0000\u0000\u0000\u0000\u0000\u0000\u0000\u0000\u0000\u0000\u0000\u0000\u0000\u0000\u0000\u0000\u0000\u0000\u0000\u0000\u0000\u0000\u0000\u0000\u0000\u0000\u0000\u0000\u0000\u0000\u0000\u0000\u0000\u0000\u0000\u0000\u0000\u0000\u0000\u0000\u0000\u0000\u0000\u0000\u0000\n",
      "To output directory in  /grand/projects/BirdAudio/Soundscapes/Labeled_Dataset/Class_43/\n",
      "Something went wrong with the following data path\n",
      "Label is  43\n",
      "File path is  \u0000\u0000\u0000\u0000\u0000\u0000\u0000\u0000\u0000\u0000\u0000\u0000\u0000\u0000\u0000\u0000\u0000\u0000\u0000\u0000\u0000\u0000\u0000\u0000\u0000\u0000\u0000\u0000\u0000\u0000\u0000\u0000\u0000\u0000\u0000\u0000\u0000\u0000\u0000\u0000\u0000\u0000\u0000\u0000\u0000\u0000\u0000\u0000\u0000\u0000\u0000\u0000\u0000\u0000\u0000\u0000\u0000\u0000\u0000\u0000\u0000\u0000\u0000\u0000\u0000\u0000\u0000\u0000\u0000\u0000\u0000\u0000\u0000\u0000\u0000\u0000\u0000\u0000\u0000\u0000\u0000\n",
      "To output directory in  /grand/projects/BirdAudio/Soundscapes/Labeled_Dataset/Class_43/\n",
      "Something went wrong with the following data path\n",
      "Label is  43\n",
      "File path is  \u0000\u0000\u0000\u0000\u0000\u0000\u0000\u0000\u0000\u0000\u0000\u0000\u0000\u0000\u0000\u0000\u0000\u0000\u0000\u0000\u0000\u0000\u0000\u0000\u0000\u0000\u0000\u0000\u0000\u0000\u0000\u0000\u0000\u0000\u0000\u0000\u0000\u0000\u0000\u0000\u0000\u0000\u0000\u0000\u0000\u0000\u0000\u0000\u0000\u0000\u0000\u0000\u0000\u0000\u0000\u0000\u0000\u0000\u0000\u0000\u0000\u0000\u0000\u0000\u0000\u0000\u0000\u0000\u0000\u0000\u0000\u0000\u0000\u0000\u0000\u0000\u0000\u0000\u0000\u0000\u0000\n",
      "To output directory in  /grand/projects/BirdAudio/Soundscapes/Labeled_Dataset/Class_43/\n",
      "Something went wrong with the following data path\n",
      "Label is  43\n",
      "File path is  \u0000\u0000\u0000\u0000\u0000\u0000\u0000\u0000\u0000\u0000\u0000\u0000\u0000\u0000\u0000\u0000\u0000\u0000\u0000\u0000\u0000\u0000\u0000\u0000\u0000\u0000\u0000\u0000\u0000\u0000\u0000\u0000\u0000\u0000\u0000\u0000\u0000\u0000\u0000\u0000\u0000\u0000\u0000\u0000\u0000\u0000\u0000\u0000\u0000\u0000\u0000\u0000\u0000\u0000\u0000\u0000\u0000\u0000\u0000\u0000\u0000\u0000\u0000\u0000\u0000\u0000\u0000\u0000\u0000\u0000\u0000\u0000\u0000\u0000\u0000\u0000\u0000\u0000\u0000\u0000\u0000\n",
      "To output directory in  /grand/projects/BirdAudio/Soundscapes/Labeled_Dataset/Class_43/\n",
      "Something went wrong with the following data path\n",
      "Label is  43\n",
      "File path is  \u0000\u0000\u0000\u0000\u0000\u0000\u0000\u0000\u0000\u0000\u0000\u0000\u0000\u0000\u0000\u0000\u0000\u0000\u0000\u0000\u0000\u0000\u0000\u0000\u0000\u0000\u0000\u0000\u0000\u0000\u0000\u0000\u0000\u0000\u0000\u0000\u0000\u0000\u0000\u0000\u0000\u0000\u0000\u0000\u0000\u0000\u0000\u0000\u0000\u0000\u0000\u0000\u0000\u0000\u0000\u0000\u0000\u0000\u0000\u0000\u0000\u0000\u0000\u0000\u0000\u0000\u0000\u0000\u0000\u0000\u0000\u0000\u0000\u0000\u0000\u0000\u0000\u0000\u0000\u0000\u0000\n",
      "To output directory in  /grand/projects/BirdAudio/Soundscapes/Labeled_Dataset/Class_43/\n",
      "DONE!\n"
     ]
    }
   ],
   "source": [
    "spectrograms_base_path='/grand/projects/BirdAudio/Soundscapes/Second_Filtered_Spectrograms/'\n",
    "generate_labelled_dataset(label_predictions, file_paths, spectrograms_base_path, output_dir, verbose=False)"
   ]
  },
  {
   "cell_type": "code",
   "execution_count": null,
   "id": "08396221",
   "metadata": {},
   "outputs": [],
   "source": []
  }
 ],
 "metadata": {
  "kernelspec": {
   "display_name": "soundscape_env",
   "language": "python",
   "name": "soundscape_env"
  },
  "language_info": {
   "codemirror_mode": {
    "name": "ipython",
    "version": 3
   },
   "file_extension": ".py",
   "mimetype": "text/x-python",
   "name": "python",
   "nbconvert_exporter": "python",
   "pygments_lexer": "ipython3",
   "version": "3.10.9"
  }
 },
 "nbformat": 4,
 "nbformat_minor": 5
}
