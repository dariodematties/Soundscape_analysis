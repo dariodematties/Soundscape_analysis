{
 "cells": [
  {
   "cell_type": "markdown",
   "id": "d36181ec",
   "metadata": {},
   "source": [
    "# Generate attentional maps and masks from image"
   ]
  },
  {
   "cell_type": "code",
   "execution_count": null,
   "id": "e8b7ef4e",
   "metadata": {},
   "outputs": [],
   "source": [
    "from collections import namedtuple\n",
    "\n",
    "import visualize_attention"
   ]
  },
  {
   "cell_type": "markdown",
   "id": "fdf82b5f",
   "metadata": {},
   "source": [
    "Compose the arguments"
   ]
  },
  {
   "cell_type": "code",
   "execution_count": null,
   "id": "b1d40490",
   "metadata": {},
   "outputs": [],
   "source": [
    "Arguments = namedtuple('Arguments', ['arch',\n",
    "                                     'patch_size',\n",
    "                                     'pretrained_weights',\n",
    "                                     'checkpoint_key',\n",
    "                                     'image_path',\n",
    "                                     'image_size',\n",
    "                                     'output_dir',\n",
    "                                     'threshold'\n",
    "                                    ])\n",
    "\n",
    "args = Arguments(arch = 'vit_small',\n",
    "                 patch_size = 16,\n",
    "                 pretrained_weights = '/grand/projects/BirdAudio/Soundscapes/Models/checkpoint0045.pth',\n",
    "                 checkpoint_key = \"teacher\",\n",
    "                 image_path = '/projects/',\n",
    "                 #image_path = '/home/dario/mounts/thetagpu/Spectrograms/set2/00004862/20210714_STUDY/20210714T170000-0500_Rec_188.png',\n",
    "                 #image_path = '/media/dario/T7_Touch/Temp_folder/Spectrograms/set1/00023734/20210630_STUDY/20210630T030854-0500_Rec_1056.png',\n",
    "                 #image_path = '/media/dario/T7_Touch/Temp_folder/Spectrograms/set1/00023734/20210701_STUDY/20210701T030854-0500_Rec_1160.png',\n",
    "                 #image_path = '/media/dario/T7_Touch/Temp_folder/Spectrograms/set1/00023734/20210628_STUDY/20210628T170000-0500_Rec_1000.png',\n",
    "                 #image_size = (1024, 1024),\n",
    "                 #image_size = (3*349, 3*475),\n",
    "                 image_size = (2*442, 2*774),\n",
    "                 output_dir = '/media/dario/T7_Touch/Temp_folder/Single_Image_Attentional_Maps',\n",
    "                 threshold = 0.2\n",
    "                )"
   ]
  },
  {
   "cell_type": "markdown",
   "id": "520c7c6a",
   "metadata": {},
   "source": [
    "Generate attentional maps and masks from image"
   ]
  },
  {
   "cell_type": "code",
   "execution_count": null,
   "id": "985bec21",
   "metadata": {},
   "outputs": [],
   "source": [
    "visualize_attention.main(args)"
   ]
  },
  {
   "cell_type": "markdown",
   "id": "9928fa03",
   "metadata": {},
   "source": [
    "# Get features from individual image"
   ]
  },
  {
   "cell_type": "code",
   "execution_count": null,
   "id": "1c2589b3",
   "metadata": {},
   "outputs": [],
   "source": [
    "import get_feat_from_image"
   ]
  },
  {
   "cell_type": "code",
   "execution_count": null,
   "id": "f2a8ddb8",
   "metadata": {},
   "outputs": [],
   "source": [
    "get_feat_from_image.main(args)"
   ]
  },
  {
   "cell_type": "code",
   "execution_count": null,
   "id": "ede17373",
   "metadata": {},
   "outputs": [],
   "source": []
  }
 ],
 "metadata": {
  "kernelspec": {
   "display_name": "Python 3 (ipykernel)",
   "language": "python",
   "name": "python3"
  },
  "language_info": {
   "codemirror_mode": {
    "name": "ipython",
    "version": 3
   },
   "file_extension": ".py",
   "mimetype": "text/x-python",
   "name": "python",
   "nbconvert_exporter": "python",
   "pygments_lexer": "ipython3",
   "version": "3.9.5"
  }
 },
 "nbformat": 4,
 "nbformat_minor": 5
}
