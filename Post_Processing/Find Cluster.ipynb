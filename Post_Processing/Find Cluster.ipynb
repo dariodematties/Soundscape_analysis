{
 "cells": [
  {
   "cell_type": "markdown",
   "id": "51e240eb",
   "metadata": {},
   "source": [
    "# Bring Cluster"
   ]
  },
  {
   "cell_type": "code",
   "execution_count": null,
   "id": "bbffe7d4",
   "metadata": {},
   "outputs": [],
   "source": [
    "%matplotlib widget\n",
    "import torch\n",
    "import numpy as np\n",
    "from joblib import dump, load\n",
    "\n",
    "from sklearn.neighbors import KNeighborsClassifier\n",
    "\n",
    "import matplotlib.pyplot as plt\n",
    "from mpl_toolkits.mplot3d import Axes3D\n",
    "\n",
    "from bring_features_and_file_paths import bring_features_and_file_paths, transform_features"
   ]
  },
  {
   "cell_type": "code",
   "execution_count": null,
   "id": "cb7c2bab",
   "metadata": {},
   "outputs": [],
   "source": [
    "cluster_number = 0"
   ]
  },
  {
   "cell_type": "markdown",
   "id": "1ac8fd54",
   "metadata": {},
   "source": [
    "## Bring all the features and file paths"
   ]
  },
  {
   "cell_type": "code",
   "execution_count": null,
   "id": "01827e24",
   "metadata": {},
   "outputs": [],
   "source": [
    "features, file_paths, indices = bring_features_and_file_paths('/home/dario/mounts/thetagpu/Features', sub_sample=0.2)"
   ]
  },
  {
   "cell_type": "markdown",
   "id": "5db32109",
   "metadata": {},
   "source": [
    "Now, we want to transform the features, scaling them and reducing their dimensionality"
   ]
  },
  {
   "cell_type": "code",
   "execution_count": null,
   "id": "958a62bb",
   "metadata": {},
   "outputs": [],
   "source": [
    "dim_red_model = load('/media/dario/T7_Touch/Temp_folder/Clusters/dim_red_model')\n",
    "scale_model = load('/media/dario/T7_Touch/Temp_folder/Clusters/scale_model')"
   ]
  },
  {
   "cell_type": "code",
   "execution_count": null,
   "id": "a9edff89",
   "metadata": {},
   "outputs": [],
   "source": [
    "samples = transform_features(features, scale_model, dim_red_model)\n",
    "samples.shape"
   ]
  },
  {
   "cell_type": "markdown",
   "id": "fffa0130",
   "metadata": {},
   "source": [
    "Load the clusters generated from the features\n",
    "\n",
    "We will use them to classify our sample of features now"
   ]
  },
  {
   "cell_type": "code",
   "execution_count": null,
   "id": "a7384470",
   "metadata": {},
   "outputs": [],
   "source": [
    "clusters = np.load('/media/dario/T7_Touch/Temp_folder/Clusters/clusters.npy', allow_pickle=True)\n",
    "vectors=clusters[()]['x']\n",
    "labels=clusters[()]['y']"
   ]
  },
  {
   "cell_type": "code",
   "execution_count": null,
   "id": "345e7fba",
   "metadata": {},
   "outputs": [],
   "source": [
    "n_clusters_ = len(set(labels)) - (1 if -1 in labels else 0)\n",
    "n_noise_ = list(labels).count(-1)\n",
    "print(\"Estimated number of clusters: %d\" % n_clusters_)\n",
    "print(\"Estimated number of noise points: %d\" % n_noise_)"
   ]
  },
  {
   "cell_type": "code",
   "execution_count": null,
   "id": "befd5a98",
   "metadata": {},
   "outputs": [],
   "source": [
    "def choose_random_rows(an_array, n_samples):\n",
    "    number_of_rows = an_array.shape[0]\n",
    "    random_indices = np.random.choice(number_of_rows, size=n_samples, replace=False)\n",
    "    random_rows = an_array[random_indices, :]\n",
    "    return random_rows\n",
    "\n",
    "X = choose_random_rows(vectors,5000)\n",
    "n_components=X.shape[1]"
   ]
  },
  {
   "cell_type": "markdown",
   "id": "07975a48",
   "metadata": {},
   "source": [
    "Train a k-nearest neighbor algorithm to predict the samples"
   ]
  },
  {
   "cell_type": "code",
   "execution_count": null,
   "id": "0e45bdee",
   "metadata": {},
   "outputs": [],
   "source": [
    "neigh = KNeighborsClassifier(n_neighbors=10)\n",
    "neigh.fit(vectors, labels)"
   ]
  },
  {
   "cell_type": "code",
   "execution_count": null,
   "id": "02bfcdc0",
   "metadata": {},
   "outputs": [],
   "source": [
    "label_predictions=neigh.predict(samples)\n",
    "core_samples = np.zeros_like(label_predictions, dtype=bool)\n",
    "core_samples[label_predictions == cluster_number] = True\n",
    "n_noise_points = list(label_predictions).count(-1)"
   ]
  },
  {
   "cell_type": "code",
   "execution_count": null,
   "id": "851a124c",
   "metadata": {},
   "outputs": [],
   "source": [
    "samples = samples[core_samples]"
   ]
  },
  {
   "cell_type": "code",
   "execution_count": null,
   "id": "f55910d3",
   "metadata": {},
   "outputs": [],
   "source": [
    "if n_components == 2:\n",
    "    fig = plt.figure(figsize=(8,8))\n",
    "    ax = fig.add_subplot()\n",
    "    ax.scatter(X[:,0],X[:,1])\n",
    "    ax.scatter(samples[0,0],\n",
    "               samples[0,1],\n",
    "               s=150\n",
    "              )\n",
    "elif n_components == 3:\n",
    "    fig = plt.figure(figsize=(8,8))\n",
    "    #ax = fig.add_subplot(projection='3d')\n",
    "    ax = Axes3D(fig)\n",
    "    ax.scatter(X[:,0], X[:,1], X[:,2])\n",
    "    ax.scatter(\n",
    "        samples[:,0],\n",
    "        samples[:,1],\n",
    "        samples[:,2],\n",
    "        s=60\n",
    "    )"
   ]
  },
  {
   "cell_type": "code",
   "execution_count": null,
   "id": "1a258838",
   "metadata": {},
   "outputs": [],
   "source": [
    "torch.save(indices[core_samples], '/media/dario/T7_Touch/Temp_folder/Indices/indices.pth')"
   ]
  }
 ],
 "metadata": {
  "kernelspec": {
   "display_name": "Python 3",
   "language": "python",
   "name": "python3"
  },
  "language_info": {
   "codemirror_mode": {
    "name": "ipython",
    "version": 3
   },
   "file_extension": ".py",
   "mimetype": "text/x-python",
   "name": "python",
   "nbconvert_exporter": "python",
   "pygments_lexer": "ipython3",
   "version": "3.8.10"
  }
 },
 "nbformat": 4,
 "nbformat_minor": 5
}
