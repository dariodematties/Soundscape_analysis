{
 "cells": [
  {
   "cell_type": "markdown",
   "id": "1b88171a",
   "metadata": {},
   "source": [
    "# Bring Similar Samples"
   ]
  },
  {
   "cell_type": "code",
   "execution_count": null,
   "id": "034cede4",
   "metadata": {},
   "outputs": [],
   "source": [
    "import os\n",
    "import re\n",
    "import numpy as np\n",
    "import torch\n",
    "from PIL import Image\n",
    "import matplotlib.pyplot as plt\n",
    "\n",
    "from joblib import dump, load\n",
    "from mpl_toolkits.mplot3d import Axes3D\n",
    "from bring_features_and_file_paths import bring_features_and_file_paths, transform_features"
   ]
  },
  {
   "cell_type": "code",
   "execution_count": null,
   "id": "daf47351",
   "metadata": {},
   "outputs": [],
   "source": [
    "BASE_PATH='/home/dario/mounts/thetagpu/Spectrograms'\n",
    "\n",
    "#PATH='set1/00023757/20210704_STUDY/20210704T131736-0500_Rec_1057.png'\n",
    "PATH='set2/00004862/20210714_STUDY/20210714T170000-0500_Rec_188.png'\n",
    "#PATH='set1/00023734/20210628_STUDY/20210628T170000-0500_Rec_435.png'\n",
    "#PATH='set1/00023734/20210628_STUDY/20210628T170000-0500_Rec_998.png'\n",
    "#PATH='set1/00023734/20210702_STUDY/20210702T131738-0500_Rec_856.png'\n",
    "#PATH='set1/00023734/20210702_STUDY/20210702T131738-0500_Rec_126.png'\n",
    "#PATH='set3/00023757/20210815_STUDY/20210815T131737-0500_Rec_918.png'\n",
    "#PATH='set3/00004879/20210816_STUDY/20210816T170000-0500_Rec_1192.png'\n",
    "#PATH='set2/00004879/20210612_STUDY/20210612T000000-0500_REC_17.png'\n",
    "#PATH='set1/00023734/20210629_STUDY/20210629T030845-0500_Rec_136.png'\n",
    "#PATH='set1/00023734/20210629_STUDY/20210629T030845-0500_Rec_488.png'\n",
    "#PATH='set2/00023734/20210717_STUDY/20210717T131738-0500_Rec_1146.png'"
   ]
  },
  {
   "cell_type": "code",
   "execution_count": null,
   "id": "9ebe22a4",
   "metadata": {},
   "outputs": [],
   "source": [
    "img = Image.open(os.path.join(BASE_PATH, PATH))\n",
    "imgplot = plt.imshow(img)\n",
    "plt.axis('off')\n",
    "plt.show()"
   ]
  },
  {
   "cell_type": "code",
   "execution_count": null,
   "id": "5c3bb7db",
   "metadata": {},
   "outputs": [],
   "source": [
    "features, file_paths = bring_features_and_file_paths('/home/dario/mounts/thetagpu/Features')"
   ]
  },
  {
   "cell_type": "code",
   "execution_count": null,
   "id": "91be8d5f",
   "metadata": {},
   "outputs": [],
   "source": [
    "def get_spectrogram_file_path(fpath):\n",
    "    return ''.join([chr(int(x)) for x in fpath]).replace('~','')"
   ]
  },
  {
   "cell_type": "code",
   "execution_count": null,
   "id": "c06c7a4f",
   "metadata": {},
   "outputs": [],
   "source": [
    "for index, path in enumerate(file_paths):\n",
    "    if get_spectrogram_file_path(path) == PATH:\n",
    "        break\n",
    "\n",
    "pdist = torch.nn.PairwiseDistance(p=2)\n",
    "distances = pdist(features[index], features)\n",
    "\n",
    "indices=torch.topk(distances, 10000, largest=False)[1][1:]"
   ]
  },
  {
   "cell_type": "code",
   "execution_count": null,
   "id": "d3274c63",
   "metadata": {},
   "outputs": [],
   "source": [
    "for k, i in enumerate(indices):\n",
    "    NAME=get_spectrogram_file_path(file_paths[i.item()])\n",
    "    AUXPATH=os.path.join(BASE_PATH, NAME)\n",
    "    print(AUXPATH)\n",
    "    img = Image.open(AUXPATH)\n",
    "    imgplot = plt.imshow(img)\n",
    "    plt.axis('off')\n",
    "    plt.show()\n",
    "    if k > 100:\n",
    "        break"
   ]
  },
  {
   "cell_type": "markdown",
   "id": "dd67997d",
   "metadata": {},
   "source": [
    "## Now let's visualize the Clusterization\n",
    "\n",
    "What if we plot those images in the cloud of points"
   ]
  },
  {
   "cell_type": "code",
   "execution_count": null,
   "id": "367e8fad",
   "metadata": {},
   "outputs": [],
   "source": [
    "dim_red_model = load('/media/dario/T7_Touch/Temp_folder/Clusters/dim_red_model')\n",
    "scale_model = load('/media/dario/T7_Touch/Temp_folder/Clusters/scale_model')"
   ]
  },
  {
   "cell_type": "code",
   "execution_count": null,
   "id": "8013251e",
   "metadata": {},
   "outputs": [],
   "source": [
    "samples = transform_features(features[indices], scale_model, dim_red_model)\n",
    "samples.shape"
   ]
  },
  {
   "cell_type": "markdown",
   "id": "2f09d6a3",
   "metadata": {},
   "source": [
    "Load the clusters generated from the features"
   ]
  },
  {
   "cell_type": "code",
   "execution_count": null,
   "id": "27959cf9",
   "metadata": {},
   "outputs": [],
   "source": [
    "clusters = np.load('/media/dario/T7_Touch/Temp_folder/Clusters/clusters.npy', allow_pickle=True)\n",
    "vectors=clusters[()]['x']\n",
    "labels=clusters[()]['y']"
   ]
  },
  {
   "cell_type": "markdown",
   "id": "7d891183",
   "metadata": {},
   "source": [
    "Plot a sample of points from the data set"
   ]
  },
  {
   "cell_type": "code",
   "execution_count": null,
   "id": "f1c894f0",
   "metadata": {},
   "outputs": [],
   "source": [
    "def choose_random_rows(an_array, n_samples):\n",
    "    number_of_rows = an_array.shape[0]\n",
    "    random_indices = np.random.choice(number_of_rows, size=n_samples, replace=False)\n",
    "    random_rows = an_array[random_indices, :]\n",
    "    return random_rows\n",
    "\n",
    "X = choose_random_rows(vectors,5000)\n",
    "n_components=X.shape[1]"
   ]
  },
  {
   "cell_type": "code",
   "execution_count": null,
   "id": "301a8d55",
   "metadata": {},
   "outputs": [],
   "source": [
    "%matplotlib widget\n",
    "if n_components == 2:\n",
    "    fig = plt.figure(figsize=(8,8))\n",
    "    ax = fig.add_subplot()\n",
    "    ax.scatter(X[:,0],X[:,1])\n",
    "    ax.scatter(samples[:,0],\n",
    "               samples[:,1],\n",
    "               s=150\n",
    "              )\n",
    "elif n_components == 3:\n",
    "    fig = plt.figure(figsize=(8,8))\n",
    "    #ax = fig.add_subplot(projection='3d')\n",
    "    ax = Axes3D(fig)\n",
    "    ax.scatter(X[:,0], X[:,1], X[:,2])\n",
    "    ax.scatter(\n",
    "        samples[:,0],\n",
    "        samples[:,1],\n",
    "        samples[:,2],\n",
    "        s=60\n",
    "    )"
   ]
  },
  {
   "cell_type": "code",
   "execution_count": null,
   "id": "d7100b3f",
   "metadata": {},
   "outputs": [],
   "source": [
    "torch.save(indices, '/media/dario/T7_Touch/Temp_folder/Indices/indices.pth')"
   ]
  },
  {
   "cell_type": "code",
   "execution_count": null,
   "id": "0b86726f",
   "metadata": {},
   "outputs": [],
   "source": []
  }
 ],
 "metadata": {
  "kernelspec": {
   "display_name": "Python 3",
   "language": "python",
   "name": "python3"
  },
  "language_info": {
   "codemirror_mode": {
    "name": "ipython",
    "version": 3
   },
   "file_extension": ".py",
   "mimetype": "text/x-python",
   "name": "python",
   "nbconvert_exporter": "python",
   "pygments_lexer": "ipython3",
   "version": "3.8.10"
  }
 },
 "nbformat": 4,
 "nbformat_minor": 5
}
