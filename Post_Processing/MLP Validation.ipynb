{
 "cells": [
  {
   "cell_type": "markdown",
   "id": "ccc1c9e0",
   "metadata": {},
   "source": [
    "# Multi Layer Perceptron Validation"
   ]
  },
  {
   "cell_type": "code",
   "execution_count": 1,
   "id": "20656498",
   "metadata": {},
   "outputs": [],
   "source": [
    "import os\n",
    "import numpy as np\n",
    "import torch\n",
    "\n",
    "from datetime import datetime\n",
    "\n",
    "from tqdm import tqdm\n",
    "\n",
    "from sklearn.neighbors import KNeighborsClassifier\n",
    "from sklearn.neural_network import MLPClassifier\n",
    "from sklearn.model_selection import KFold\n",
    "from sklearn import preprocessing\n",
    "\n",
    "from bring_features_and_file_paths import bring_features_and_file_paths\n",
    "from bring_features_and_file_paths import from_spectrogram_path_to_BirdNET_output_path\n",
    "from bring_features_and_file_paths import get_BirdNET_detections\n",
    "from bring_features_and_file_paths import get_spectrogram_time_mark_in_file"
   ]
  },
  {
   "cell_type": "code",
   "execution_count": 2,
   "id": "7631b29f",
   "metadata": {},
   "outputs": [
    {
     "name": "stdout",
     "output_type": "stream",
     "text": [
      "We have 1976583 feature vectors.\n"
     ]
    }
   ],
   "source": [
    "#feats, fpaths = bring_features_and_file_paths('/grand/projects/BirdAudio/Soundscapes/Features/', sub_sample=None)\n",
    "feats, fpaths = bring_features_and_file_paths('/grand/projects/BirdAudio/Soundscapes/Second_Features/', sub_sample=None)\n",
    "indices = torch.randperm(feats.size()[0])\n",
    "feats=feats[indices]\n",
    "fpaths=fpaths[indices]"
   ]
  },
  {
   "cell_type": "code",
   "execution_count": 3,
   "id": "6b20b9fc",
   "metadata": {},
   "outputs": [],
   "source": [
    "device_to_location = {\n",
    "    4862: \"Grassland 1\",\n",
    "    4879: \"Grassland 2\",\n",
    "    23734: \"Forest 1\",\n",
    "    23764: \"Forest 2\",\n",
    "    23795: \"Forest 3\",\n",
    "    23771: \"Forest 4\",\n",
    "    23757: (datetime(month=7, day=14, year=2021, hour=14, second=55), [\"Forest 3\", \"Forest 5\"]),\n",
    "    23700: \"Forest 6\",\n",
    "}"
   ]
  },
  {
   "cell_type": "code",
   "execution_count": null,
   "id": "028eef39",
   "metadata": {},
   "outputs": [],
   "source": [
    "label='detection'\n",
    "\n",
    "vectors=[]\n",
    "labels=[]\n",
    "BirdNET_BASE_PATH = '/grand/projects/BirdAudio/Soundscapes/BirdNET_Output'\n",
    "Spectrograms_BASE_PATH = '/grand/projects/BirdAudio/Soundscapes/Second_Filtered_Spectrograms/'\n",
    "# Spectrograms_BASE_PATH = '/grand/projects/BirdAudio/Soundscapes/First_Filtered_Spectrograms'\n",
    "spectrogram_duration = 9.0\n",
    "for k, (fpath, feat) in enumerate(tqdm(zip(fpaths,feats), total=len(feats))):\n",
    "    file_path = ''.join([chr(int(x)) for x in fpath]).replace('~','')\n",
    "    BirdNET_PATH = from_spectrogram_path_to_BirdNET_output_path(fpath)\n",
    "\n",
    "    try:\n",
    "        start_time = get_spectrogram_time_mark_in_file(fpath, spectrogram_duration)\n",
    "        \n",
    "        interval = (start_time, start_time + spectrogram_duration)\n",
    "        data_elements = get_BirdNET_detections(os.path.join(BirdNET_BASE_PATH, BirdNET_PATH), interval, confidence_threshold = 0.0)\n",
    "        for data_element in data_elements:\n",
    "            vectors.append(np.array(feat))\n",
    "            labels.append(data_element[label])\n",
    "\n",
    "    except:\n",
    "        print(\"Something was wrong with\")\n",
    "        print(file_path)\n",
    "\n",
    "\n",
    "#     if k > 100000:\n",
    "    if k > 100000:\n",
    "        break\n",
    "\n",
    "vectors=np.array(vectors)\n",
    "labels=np.array(labels)\n",
    "unique_labels=np.unique(labels)\n",
    "aux=[]\n",
    "for label in labels:\n",
    "    aux.append(np.where(unique_labels==label)[0].item())\n",
    "    \n",
    "labels=np.array(aux)"
   ]
  },
  {
   "cell_type": "code",
   "execution_count": 4,
   "id": "93e77b07",
   "metadata": {},
   "outputs": [
    {
     "name": "stderr",
     "output_type": "stream",
     "text": [
      "  5%|▌         | 100001/1976583 [05:37<1:45:29, 296.50it/s]\n"
     ]
    }
   ],
   "source": [
    "label='location'\n",
    "\n",
    "vectors=[]\n",
    "labels=[]\n",
    "BirdNET_BASE_PATH = '/grand/projects/BirdAudio/Soundscapes/BirdNET_Output'\n",
    "Spectrograms_BASE_PATH = '/grand/projects/BirdAudio/Soundscapes/Second_Filtered_Spectrograms/'\n",
    "# Spectrograms_BASE_PATH = '/grand/projects/BirdAudio/Soundscapes/First_Filtered_Spectrograms'\n",
    "spectrogram_duration = 9.0\n",
    "for k, (fpath, feat) in enumerate(tqdm(zip(fpaths,feats), total=len(feats))):\n",
    "    file_path = ''.join([chr(int(x)) for x in fpath]).replace('~','')\n",
    "    BirdNET_PATH = from_spectrogram_path_to_BirdNET_output_path(fpath)\n",
    "\n",
    "    try:\n",
    "        start_time = get_spectrogram_time_mark_in_file(fpath, spectrogram_duration)\n",
    "        \n",
    "        interval = (start_time, start_time + spectrogram_duration)\n",
    "        data_elements = get_BirdNET_detections(os.path.join(BirdNET_BASE_PATH, BirdNET_PATH), interval, confidence_threshold = 0.0)\n",
    "        for data_element in data_elements:\n",
    "            device=int(data_element['device'])\n",
    "            if device!=23788:\n",
    "                if label=='location':\n",
    "                    location = device_to_location[device]\n",
    "                    if isinstance(location, tuple):\n",
    "                        date = datetime(month=data_element['month'], day=data_element['day'], year=data_element['year'], hour=data_element['hour'], second=data_element['second'])\n",
    "                        if date < location[0]:\n",
    "                            data_element['location'] = location[1][0]\n",
    "                        else:\n",
    "                            data_element['location'] = location[1][1]\n",
    "                    else:\n",
    "                        data_element['location'] = location\n",
    "                vectors.append(np.array(feat))\n",
    "                labels.append(data_element[label])\n",
    "\n",
    "    except:\n",
    "        print(\"Something was wrong with\")\n",
    "        print(file_path)\n",
    "\n",
    "\n",
    "#     if k > 100000:\n",
    "    if k > 100000:\n",
    "        break\n",
    "\n",
    "vectors=np.array(vectors)\n",
    "labels=np.array(labels)\n",
    "unique_labels=np.unique(labels)\n",
    "aux=[]\n",
    "for label in labels:\n",
    "    aux.append(np.where(unique_labels==label)[0].item())\n",
    "    \n",
    "labels=np.array(aux)"
   ]
  },
  {
   "cell_type": "code",
   "execution_count": 5,
   "id": "d55773eb",
   "metadata": {},
   "outputs": [
    {
     "data": {
      "text/plain": [
       "(114698, 384)"
      ]
     },
     "execution_count": 5,
     "metadata": {},
     "output_type": "execute_result"
    }
   ],
   "source": [
    "vectors.shape"
   ]
  },
  {
   "cell_type": "code",
   "execution_count": 6,
   "id": "54daf42a",
   "metadata": {},
   "outputs": [
    {
     "data": {
      "text/plain": [
       "(114698,)"
      ]
     },
     "execution_count": 6,
     "metadata": {},
     "output_type": "execute_result"
    }
   ],
   "source": [
    "labels.shape"
   ]
  },
  {
   "cell_type": "code",
   "execution_count": 7,
   "id": "7b272e4b",
   "metadata": {},
   "outputs": [
    {
     "data": {
      "text/plain": [
       "array(['Forest 1', 'Forest 2', 'Forest 3', 'Forest 4', 'Forest 5',\n",
       "       'Forest 6', 'Grassland 1', 'Grassland 2'], dtype='<U11')"
      ]
     },
     "execution_count": 7,
     "metadata": {},
     "output_type": "execute_result"
    }
   ],
   "source": [
    "unique_labels"
   ]
  },
  {
   "cell_type": "code",
   "execution_count": 8,
   "id": "f53cc8a8",
   "metadata": {},
   "outputs": [],
   "source": [
    "# clf = MLPClassifier(solver='adam', alpha=1e-5, hidden_layer_sizes=(100,), random_state=1, activation='identity', max_iter=2000)\n",
    "clf = MLPClassifier(solver='lbfgs', alpha=1e-5, hidden_layer_sizes=(20,), random_state=1, activation='identity', max_iter=2000)"
   ]
  },
  {
   "cell_type": "code",
   "execution_count": 9,
   "id": "5b00f519",
   "metadata": {},
   "outputs": [
    {
     "data": {
      "text/html": [
       "<style>#sk-container-id-1 {color: black;background-color: white;}#sk-container-id-1 pre{padding: 0;}#sk-container-id-1 div.sk-toggleable {background-color: white;}#sk-container-id-1 label.sk-toggleable__label {cursor: pointer;display: block;width: 100%;margin-bottom: 0;padding: 0.3em;box-sizing: border-box;text-align: center;}#sk-container-id-1 label.sk-toggleable__label-arrow:before {content: \"▸\";float: left;margin-right: 0.25em;color: #696969;}#sk-container-id-1 label.sk-toggleable__label-arrow:hover:before {color: black;}#sk-container-id-1 div.sk-estimator:hover label.sk-toggleable__label-arrow:before {color: black;}#sk-container-id-1 div.sk-toggleable__content {max-height: 0;max-width: 0;overflow: hidden;text-align: left;background-color: #f0f8ff;}#sk-container-id-1 div.sk-toggleable__content pre {margin: 0.2em;color: black;border-radius: 0.25em;background-color: #f0f8ff;}#sk-container-id-1 input.sk-toggleable__control:checked~div.sk-toggleable__content {max-height: 200px;max-width: 100%;overflow: auto;}#sk-container-id-1 input.sk-toggleable__control:checked~label.sk-toggleable__label-arrow:before {content: \"▾\";}#sk-container-id-1 div.sk-estimator input.sk-toggleable__control:checked~label.sk-toggleable__label {background-color: #d4ebff;}#sk-container-id-1 div.sk-label input.sk-toggleable__control:checked~label.sk-toggleable__label {background-color: #d4ebff;}#sk-container-id-1 input.sk-hidden--visually {border: 0;clip: rect(1px 1px 1px 1px);clip: rect(1px, 1px, 1px, 1px);height: 1px;margin: -1px;overflow: hidden;padding: 0;position: absolute;width: 1px;}#sk-container-id-1 div.sk-estimator {font-family: monospace;background-color: #f0f8ff;border: 1px dotted black;border-radius: 0.25em;box-sizing: border-box;margin-bottom: 0.5em;}#sk-container-id-1 div.sk-estimator:hover {background-color: #d4ebff;}#sk-container-id-1 div.sk-parallel-item::after {content: \"\";width: 100%;border-bottom: 1px solid gray;flex-grow: 1;}#sk-container-id-1 div.sk-label:hover label.sk-toggleable__label {background-color: #d4ebff;}#sk-container-id-1 div.sk-serial::before {content: \"\";position: absolute;border-left: 1px solid gray;box-sizing: border-box;top: 0;bottom: 0;left: 50%;z-index: 0;}#sk-container-id-1 div.sk-serial {display: flex;flex-direction: column;align-items: center;background-color: white;padding-right: 0.2em;padding-left: 0.2em;position: relative;}#sk-container-id-1 div.sk-item {position: relative;z-index: 1;}#sk-container-id-1 div.sk-parallel {display: flex;align-items: stretch;justify-content: center;background-color: white;position: relative;}#sk-container-id-1 div.sk-item::before, #sk-container-id-1 div.sk-parallel-item::before {content: \"\";position: absolute;border-left: 1px solid gray;box-sizing: border-box;top: 0;bottom: 0;left: 50%;z-index: -1;}#sk-container-id-1 div.sk-parallel-item {display: flex;flex-direction: column;z-index: 1;position: relative;background-color: white;}#sk-container-id-1 div.sk-parallel-item:first-child::after {align-self: flex-end;width: 50%;}#sk-container-id-1 div.sk-parallel-item:last-child::after {align-self: flex-start;width: 50%;}#sk-container-id-1 div.sk-parallel-item:only-child::after {width: 0;}#sk-container-id-1 div.sk-dashed-wrapped {border: 1px dashed gray;margin: 0 0.4em 0.5em 0.4em;box-sizing: border-box;padding-bottom: 0.4em;background-color: white;}#sk-container-id-1 div.sk-label label {font-family: monospace;font-weight: bold;display: inline-block;line-height: 1.2em;}#sk-container-id-1 div.sk-label-container {text-align: center;}#sk-container-id-1 div.sk-container {/* jupyter's `normalize.less` sets `[hidden] { display: none; }` but bootstrap.min.css set `[hidden] { display: none !important; }` so we also need the `!important` here to be able to override the default hidden behavior on the sphinx rendered scikit-learn.org. See: https://github.com/scikit-learn/scikit-learn/issues/21755 */display: inline-block !important;position: relative;}#sk-container-id-1 div.sk-text-repr-fallback {display: none;}</style><div id=\"sk-container-id-1\" class=\"sk-top-container\"><div class=\"sk-text-repr-fallback\"><pre>MLPClassifier(activation=&#x27;identity&#x27;, alpha=1e-05, hidden_layer_sizes=(20,),\n",
       "              max_iter=2000, random_state=1, solver=&#x27;lbfgs&#x27;)</pre><b>In a Jupyter environment, please rerun this cell to show the HTML representation or trust the notebook. <br />On GitHub, the HTML representation is unable to render, please try loading this page with nbviewer.org.</b></div><div class=\"sk-container\" hidden><div class=\"sk-item\"><div class=\"sk-estimator sk-toggleable\"><input class=\"sk-toggleable__control sk-hidden--visually\" id=\"sk-estimator-id-1\" type=\"checkbox\" checked><label for=\"sk-estimator-id-1\" class=\"sk-toggleable__label sk-toggleable__label-arrow\">MLPClassifier</label><div class=\"sk-toggleable__content\"><pre>MLPClassifier(activation=&#x27;identity&#x27;, alpha=1e-05, hidden_layer_sizes=(20,),\n",
       "              max_iter=2000, random_state=1, solver=&#x27;lbfgs&#x27;)</pre></div></div></div></div></div>"
      ],
      "text/plain": [
       "MLPClassifier(activation='identity', alpha=1e-05, hidden_layer_sizes=(20,),\n",
       "              max_iter=2000, random_state=1, solver='lbfgs')"
      ]
     },
     "execution_count": 9,
     "metadata": {},
     "output_type": "execute_result"
    }
   ],
   "source": [
    "scaler = preprocessing.StandardScaler().fit(vectors)\n",
    "clf.fit(scaler.transform(vectors), labels)"
   ]
  },
  {
   "cell_type": "code",
   "execution_count": 10,
   "id": "5c7be916",
   "metadata": {},
   "outputs": [],
   "source": [
    "kf = KFold(n_splits=10)"
   ]
  },
  {
   "cell_type": "code",
   "execution_count": null,
   "id": "45d3513f",
   "metadata": {},
   "outputs": [
    {
     "name": "stderr",
     "output_type": "stream",
     "text": [
      " 60%|██████    | 6/10 [1:14:17<50:12, 753.01s/it]  "
     ]
    }
   ],
   "source": [
    "performances=[]\n",
    "for train_indices, test_indices in tqdm(kf.split(vectors), total=10):\n",
    "    scaler = preprocessing.StandardScaler().fit(vectors[train_indices])\n",
    "    clf.fit(scaler.transform(vectors[train_indices]), labels[train_indices])\n",
    "    performances.append(clf.score(scaler.transform(vectors[test_indices]), labels[test_indices]))"
   ]
  },
  {
   "cell_type": "code",
   "execution_count": null,
   "id": "fa4df5dd",
   "metadata": {},
   "outputs": [],
   "source": [
    "np.mean(np.array(performances))"
   ]
  },
  {
   "cell_type": "code",
   "execution_count": null,
   "id": "eb4eb988",
   "metadata": {},
   "outputs": [],
   "source": [
    "mask=np.array([unique_labels=='Blue Jay'])\n",
    "mask=np.logical_or(mask,np.array([unique_labels=='Eastern Wood-Pewee']))\n",
    "mask=np.logical_or(mask,np.array([unique_labels=='Indigo Bunting']))\n",
    "# mask=np.logical_or(mask,np.array([unique_labels=='Ovenbird']))\n",
    "# mask=np.logical_or(mask,np.array([unique_labels=='Scarlet Tanager']))\n",
    "mask=np.logical_or(mask,np.array([unique_labels=='No detection']))\n",
    "\n",
    "chosen_labels=np.where(mask[0])[0]\n",
    "chosen_labels"
   ]
  },
  {
   "cell_type": "code",
   "execution_count": null,
   "id": "864ae2da",
   "metadata": {},
   "outputs": [],
   "source": [
    "def find_indices(A, B):\n",
    "    indices = np.where(np.isin(A, B))\n",
    "    return indices\n"
   ]
  },
  {
   "cell_type": "code",
   "execution_count": null,
   "id": "70dd547b",
   "metadata": {},
   "outputs": [],
   "source": [
    "indices=find_indices(labels, chosen_labels)[0]\n",
    "indices"
   ]
  },
  {
   "cell_type": "code",
   "execution_count": null,
   "id": "c6adb9b1",
   "metadata": {},
   "outputs": [],
   "source": [
    "f_vectors = vectors[indices]\n",
    "f_labels = labels[indices]\n",
    "f_performances=[]\n",
    "for train_indices, test_indices in tqdm(kf.split(f_vectors), total=10):\n",
    "    scaler = preprocessing.StandardScaler().fit(f_vectors[train_indices])\n",
    "    clf.fit(scaler.transform(f_vectors[train_indices]), f_labels[train_indices])\n",
    "    f_performances.append(clf.score(scaler.transform(f_vectors[test_indices]), f_labels[test_indices]))"
   ]
  },
  {
   "cell_type": "code",
   "execution_count": null,
   "id": "20b25f74",
   "metadata": {},
   "outputs": [],
   "source": [
    "np.mean(np.array(f_performances))"
   ]
  },
  {
   "cell_type": "code",
   "execution_count": null,
   "id": "beb8e4c4",
   "metadata": {},
   "outputs": [],
   "source": [
    "clf.coefs_[1].shape"
   ]
  },
  {
   "cell_type": "code",
   "execution_count": null,
   "id": "16605d28",
   "metadata": {},
   "outputs": [],
   "source": []
  }
 ],
 "metadata": {
  "kernelspec": {
   "display_name": "soundscape_env",
   "language": "python",
   "name": "soundscape_env"
  },
  "language_info": {
   "codemirror_mode": {
    "name": "ipython",
    "version": 3
   },
   "file_extension": ".py",
   "mimetype": "text/x-python",
   "name": "python",
   "nbconvert_exporter": "python",
   "pygments_lexer": "ipython3",
   "version": "3.10.9"
  }
 },
 "nbformat": 4,
 "nbformat_minor": 5
}
